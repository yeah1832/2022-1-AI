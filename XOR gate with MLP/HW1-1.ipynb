{
  "cells": [
    {
      "cell_type": "markdown",
      "metadata": {
        "id": "JJeY52mkwqe5"
      },
      "source": [
        "### 2022-1 Artificial Intelligence (01)\n",
        "## Homework #1: MLP from the scratch\n",
        "---\n",
        "Copyright (c) Prof. Jaehyeong Sim \n",
        "\n",
        "Department of Computer Science and Engineering\n",
        "\n",
        "Ewha Womans University"
      ]
    },
    {
      "cell_type": "code",
      "execution_count": 1,
      "metadata": {
        "id": "LOgtScJ6VfFi"
      },
      "outputs": [],
      "source": [
        "import numpy as np"
      ]
    },
    {
      "cell_type": "code",
      "execution_count": 2,
      "metadata": {
        "id": "Hw2ul1L7Vg5c"
      },
      "outputs": [],
      "source": [
        "# Sigmoid function\n",
        "def sigmoid(x):\n",
        "  # Problem 1.(a): fill here\n",
        "  return 1 / (1+np.exp(-1*x))\n",
        "\n",
        "# Derivative of sigmoid function\n",
        "def dsigmoid(x):\n",
        "  # Problem 1.(a): fill here\n",
        "  return sigmoid(x)*(1-sigmoid(x))\n",
        "\n",
        "# Hyperbolic tangent function\n",
        "def tanh(x):\n",
        "  # Problem 1.(a): fill here\n",
        "  return np.tanh(x)\n",
        "\n",
        "# Derivative of hyperbolic tangent function\n",
        "def dtanh(x):\n",
        "  # Problem 1.(a): fill here\n",
        "  return 1-(tanh(x))**2"
      ]
    },
    {
      "cell_type": "code",
      "execution_count": 3,
      "metadata": {
        "id": "g0MG-Fl4IMd_"
      },
      "outputs": [],
      "source": [
        "# Mean squared error function\n",
        "def MSE(O, T):\n",
        "  # Problem 1.(b): fill here\n",
        "  return np.square(np.subtract(O.T,T)).mean()\n",
        "# Derivative of hyperbolic tangent function\n",
        "def dMSE(O, T):\n",
        "  # Problem 1.(b): fill here\n",
        "  return (O-T)"
      ]
    },
    {
      "cell_type": "code",
      "execution_count": 6,
      "metadata": {
        "id": "g8VxeUNJWUQi"
      },
      "outputs": [],
      "source": [
        "class MLP:\n",
        "\n",
        "  def __init__(self, learning_rate=0.01, n_epochs=5, n_inputs=2, n_hiddens=2, n_outputs=1):\n",
        "    self.lr = learning_rate\n",
        "    self.n_epochs = n_epochs\n",
        "    \n",
        "    self.n_inputs = n_inputs\n",
        "    self.n_hiddens = n_hiddens\n",
        "    self.n_outputs = n_outputs\n",
        "\n",
        "    self.first_layer_activation_func = tanh\n",
        "    self.first_layer_dactivation_func = dtanh\n",
        "    self.second_layer_activation_func = sigmoid\n",
        "    self.second_layer_dactivation_func = dsigmoid\n",
        "    self.loss_func = MSE\n",
        "    self.dloss_func = dMSE\n",
        "    self.first_layer_weights = None\n",
        "    self.first_layer_bias = None\n",
        "    self.second_layer_weights = None\n",
        "    self.second_layer_bias = None\n",
        "\n",
        "  def _init_params(self):\n",
        "    # Problem 1.(c): fill here\n",
        "    np.random.seed(42)\n",
        "    self.first_layer_weights = np.random.random((self.n_inputs,self.n_hiddens))\n",
        "    self.first_layer_bias = np.random.random((self.n_hiddens))\n",
        "    self.second_layer_weights = np.random.random((self.n_hiddens))\n",
        "    self.second_layer_bias = np.random.random(self.n_outputs)\n",
        "    \n",
        "\n",
        "  def _forward(self, X, T):\n",
        "    A1 = np.zeros(shape=(4,2))\n",
        "    Z1 = np.zeros(shape=(4,2))\n",
        "    A2 = np.zeros(shape=(4,1))\n",
        "    Z2 = np.zeros(shape=(4,1))\n",
        "\n",
        "    # Problem 1.(d): fill here\n",
        "    for idx, sample in enumerate(X):\n",
        "      Z1[idx] = np.array([(np.dot(self.first_layer_weights[0],sample) + self.first_layer_bias[0]),(np.dot(self.first_layer_weights[1], sample)+self.first_layer_bias[1])])\n",
        "      A1[idx] = self.first_layer_activation_func(Z1[idx])\n",
        "      Z2[idx] = np.dot(self.second_layer_weights ,A1[idx]) + self.second_layer_bias\n",
        "      A2[idx] = self.second_layer_activation_func(Z2[idx])\n",
        "      \n",
        "    if(T is not None ):\n",
        "      loss = self.loss_func(A2, T)\n",
        "      return Z1, A1, Z2, A2, loss  \n",
        "    return A2\n",
        "\n",
        "  def _backward(self, X, Z1, A1, Z2, A2, T):\n",
        "    # Problem 1.(e): fill here\n",
        "\n",
        "    dW1 = np.zeros(shape=(8,2))\n",
        "    dB1 = np.zeros(shape=(4,2))\n",
        "    dW2 = np.zeros(shape=(4,2))\n",
        "    dB2 = np.zeros(shape=(4,1))\n",
        "    for idx, sample in enumerate(X):\n",
        "      error2 = self.first_layer_dactivation_func(Z2[idx]) * self.dloss_func(A2[idx], T[idx])\n",
        "      dW2[idx] = error2 * A1[idx]\n",
        "      error1 = self.second_layer_weights * error2 * self.second_layer_dactivation_func(Z1[idx])\n",
        "      dW1[2*idx] = error1[0] * sample\n",
        "      dW1[2*idx+1] = error1[1] * sample\n",
        "      dB2[idx] = error2\n",
        "      dB1[idx] = error1\n",
        "\n",
        "    return dW1, dB1, dW2, dB2\n",
        "  def predict(self, X):\n",
        "    return self._forward(X, None)\n",
        "    \n",
        "  def fit(self, X, T):\n",
        "    \n",
        "    self._init_params()\n",
        "    loss_trace = []\n",
        "\n",
        "    for _ in range(self.n_epochs):\n",
        "      Z1, A1, Z2, A2, loss = self._forward(X, T)\n",
        "      dW1, dB1, dW2, dB2 = self._backward(X, Z1, A1, Z2, A2, T)\n",
        "\n",
        "      #Problem 1.(f): fill here\n",
        "      for idx, sample in enumerate(X):\n",
        "        self.first_layer_weights[0] -= self.lr*dW1[2*idx]\n",
        "        self.first_layer_weights[1] -= self.lr*dW1[2*idx+1]\n",
        "        \n",
        "        self.first_layer_bias -= self.lr*dB1[idx]\n",
        "        self.second_layer_weights -= self.lr*dW2[idx]\n",
        "        self.second_layer_bias-= self.lr*dB2[idx]\n",
        "      loss_trace.append(loss)\n",
        "\n",
        "    return loss_trace"
      ]
    },
    {
      "cell_type": "code",
      "execution_count": 7,
      "metadata": {
        "id": "LrrU89LYg9Ch"
      },
      "outputs": [],
      "source": [
        "# Problem 1.(g): fill here\n",
        "n_epochs=10000\n",
        "mlp = MLP(learning_rate=0.1, n_epochs=n_epochs, n_inputs=2, n_hiddens=2, n_outputs=1)\n",
        "X = np.array([[0, 0], [1, 0], [0, 1], [1, 1]])\n",
        "T = np.array([0.0, 1.0, 1.0, 0.0])\n",
        "loss_trace = mlp.fit(X, T)"
      ]
    },
    {
      "cell_type": "code",
      "execution_count": 8,
      "metadata": {
        "colab": {
          "base_uri": "https://localhost:8080/",
          "height": 279
        },
        "id": "HHn035KyleRt",
        "outputId": "6fd9424f-e0a5-4dd7-9810-8468e44fa3d3"
      },
      "outputs": [
        {
          "output_type": "display_data",
          "data": {
            "text/plain": [
              "<Figure size 432x288 with 1 Axes>"
            ],
            "image/png": "[encoded data removed]"
          },
          "metadata": {
            "needs_background": "light"
          }
        }
      ],
      "source": [
        "import matplotlib.pyplot as plt\n",
        "\n",
        "plt.plot(loss_trace)\n",
        "plt.ylabel('loss')\n",
        "plt.xlabel('epochs')\n",
        "plt.show()"
      ]
    },
    {
      "cell_type": "code",
      "execution_count": 9,
      "metadata": {
        "colab": {
          "base_uri": "https://localhost:8080/"
        },
        "id": "1vzx3NJTlodj",
        "outputId": "4c286d6f-d53e-4f0d-f517-2c2d38ca099f"
      },
      "outputs": [
        {
          "output_type": "stream",
          "name": "stdout",
          "text": [
            "[[0.0410828 ]\n",
            " [0.95744182]\n",
            " [0.95744554]\n",
            " [0.05207512]]\n"
          ]
        }
      ],
      "source": [
        "# Print out XOR outputs for an input matrix X\n",
        "print(mlp.predict(X))"
      ]
    }
  ],
  "metadata": {
    "colab": {
      "collapsed_sections": [],
      "name": "HW1_1.ipynb",
      "provenance": []
    },
    "kernelspec": {
      "display_name": "Python 3",
      "name": "python3"
    },
    "language_info": {
      "name": "python"
    }
  },
  "nbformat": 4,
  "nbformat_minor": 0
}